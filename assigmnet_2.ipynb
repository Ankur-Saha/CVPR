{
 "cells": [
  {
   "cell_type": "code",
   "execution_count": 4,
   "id": "1cdbf666",
   "metadata": {},
   "outputs": [],
   "source": [
    "import tensorflow as tf\n",
    "import numpy as np\n",
    "import matplotlib.pyplot as plt\n",
    "from math import sqrt"
   ]
  },
  {
   "cell_type": "code",
   "execution_count": 5,
   "id": "d2ebebe5",
   "metadata": {},
   "outputs": [],
   "source": [
    "(X_train, Y_train), (X_test, Y_test) = tf.keras.datasets.cifar10.load_data()"
   ]
  },
  {
   "cell_type": "code",
   "execution_count": 6,
   "id": "a954f063",
   "metadata": {},
   "outputs": [
    {
     "name": "stdout",
     "output_type": "stream",
     "text": [
      "<class 'numpy.ndarray'>\n"
     ]
    }
   ],
   "source": [
    "new = np.split(X_train,5)\n",
    "print (type(X_train))"
   ]
  },
  {
   "cell_type": "code",
   "execution_count": 7,
   "id": "153de0d6",
   "metadata": {},
   "outputs": [],
   "source": [
    "fold_1 = new[0]\n",
    "fold_2 = new[1]\n",
    "fold_3 = new[2]\n",
    "fold_4 = new[3]\n",
    "fold_5 = new[4]"
   ]
  },
  {
   "cell_type": "code",
   "execution_count": 5,
   "id": "fc288f08",
   "metadata": {},
   "outputs": [
    {
     "name": "stdout",
     "output_type": "stream",
     "text": [
      "10000 10000 10000 10000 10000\n"
     ]
    }
   ],
   "source": [
    "print (len(fold_1),len(fold_2),len(fold_3),len(fold_4),len(fold_5))"
   ]
  },
  {
   "cell_type": "code",
   "execution_count": 8,
   "id": "2c86ddd8",
   "metadata": {},
   "outputs": [
    {
     "name": "stdout",
     "output_type": "stream",
     "text": [
      "<class 'numpy.ndarray'>\n"
     ]
    }
   ],
   "source": [
    "print (type(fold_1))"
   ]
  },
  {
   "cell_type": "code",
   "execution_count": 11,
   "id": "bd99a761",
   "metadata": {},
   "outputs": [
    {
     "name": "stdout",
     "output_type": "stream",
     "text": [
      "[[[255 255 254]\n",
      "  [252 252 252]\n",
      "  [253 252 254]\n",
      "  ...\n",
      "  [165 177 184]\n",
      "  [243 246 247]\n",
      "  [254 253 252]]\n",
      "\n",
      " [[255 255 254]\n",
      "  [252 252 252]\n",
      "  [254 254 255]\n",
      "  ...\n",
      "  [130 144 161]\n",
      "  [225 232 239]\n",
      "  [253 255 255]]\n",
      "\n",
      " [[255 255 255]\n",
      "  [254 254 254]\n",
      "  [248 247 249]\n",
      "  ...\n",
      "  [141 155 175]\n",
      "  [220 227 235]\n",
      "  [253 255 255]]\n",
      "\n",
      " ...\n",
      "\n",
      " [[233 234 234]\n",
      "  [216 216 216]\n",
      "  [241 241 241]\n",
      "  ...\n",
      "  [  9  11  11]\n",
      "  [ 18  19  19]\n",
      "  [169 171 170]]\n",
      "\n",
      " [[255 255 255]\n",
      "  [255 255 255]\n",
      "  [253 253 253]\n",
      "  ...\n",
      "  [ 21  23  22]\n",
      "  [113 115 114]\n",
      "  [235 237 236]]\n",
      "\n",
      " [[255 255 255]\n",
      "  [251 251 251]\n",
      "  [253 253 253]\n",
      "  ...\n",
      "  [172 174 173]\n",
      "  [230 232 231]\n",
      "  [247 248 248]]]\n"
     ]
    },
    {
     "data": {
      "text/plain": [
       "<matplotlib.image.AxesImage at 0x25c166cd3d0>"
      ]
     },
     "execution_count": 11,
     "metadata": {},
     "output_type": "execute_result"
    },
    {
     "data": {
      "image/png": "[encoded data removed]",
      "text/plain": [
       "<Figure size 432x288 with 1 Axes>"
      ]
     },
     "metadata": {
      "needs_background": "light"
     },
     "output_type": "display_data"
    }
   ],
   "source": [
    "print(fold_5[0])\n",
    "plt.imshow(fold_5[0])"
   ]
  },
  {
   "cell_type": "code",
   "execution_count": 9,
   "id": "88e18a58",
   "metadata": {},
   "outputs": [],
   "source": [
    "def manhattan_distance(a, b):\n",
    "    return sum(abs(e1-e2) for e1, e2 in zip(a,b))"
   ]
  },
  {
   "cell_type": "code",
   "execution_count": 19,
   "id": "3d5847a7",
   "metadata": {},
   "outputs": [],
   "source": [
    "ver_1 = np.concatenate((fold_1,fold_2,fold_3,fold_4))"
   ]
  },
  {
   "cell_type": "code",
   "execution_count": 20,
   "id": "dc2bcae6",
   "metadata": {},
   "outputs": [
    {
     "name": "stdout",
     "output_type": "stream",
     "text": [
      "(40000, 32, 32, 3)\n"
     ]
    }
   ],
   "source": [
    "print (ver_1.shape)"
   ]
  },
  {
   "cell_type": "code",
   "execution_count": 21,
   "id": "39b6d396",
   "metadata": {},
   "outputs": [],
   "source": [
    "dist = manhattan_distance(fold_5,ver_1)"
   ]
  },
  {
   "cell_type": "code",
   "execution_count": 25,
   "id": "f38ebcb5",
   "metadata": {},
   "outputs": [
    {
     "name": "stdout",
     "output_type": "stream",
     "text": [
      "32\n",
      "(32, 32, 3)\n"
     ]
    }
   ],
   "source": [
    "print(len(dist))\n",
    "print(dist.shape)"
   ]
  },
  {
   "cell_type": "code",
   "execution_count": null,
   "id": "cd1672d8",
   "metadata": {},
   "outputs": [],
   "source": []
  }
 ],
 "metadata": {
  "kernelspec": {
   "display_name": "Python 3 (ipykernel)",
   "language": "python",
   "name": "python3"
  },
  "language_info": {
   "codemirror_mode": {
    "name": "ipython",
    "version": 3
   },
   "file_extension": ".py",
   "mimetype": "text/x-python",
   "name": "python",
   "nbconvert_exporter": "python",
   "pygments_lexer": "ipython3",
   "version": "3.8.0"
  }
 },
 "nbformat": 4,
 "nbformat_minor": 5
}
